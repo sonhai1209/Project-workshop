{
  "nbformat": 4,
  "nbformat_minor": 0,
  "metadata": {
    "colab": {
      "name": "Untitled2.ipynb",
      "provenance": [],
      "collapsed_sections": [],
      "include_colab_link": true
    },
    "kernelspec": {
      "name": "python3",
      "display_name": "Python 3"
    }
  },
  "cells": [
    {
      "cell_type": "markdown",
      "metadata": {
        "id": "view-in-github",
        "colab_type": "text"
      },
      "source": [
        "<a href=\"https://colab.research.google.com/github/sonhai1209/Project-workshop/blob/master/Tensorflow%20WS2.ipynb\" target=\"_parent\"><img src=\"https://colab.research.google.com/assets/colab-badge.svg\" alt=\"Open In Colab\"/></a>"
      ]
    },
    {
      "cell_type": "markdown",
      "metadata": {
        "id": "eHeDvVZgpWBE",
        "colab_type": "text"
      },
      "source": [
        "# Bài thực hành sau Tensorflow WS. Bài tương tự với Project đã thực hiện ở workshop."
      ]
    },
    {
      "cell_type": "markdown",
      "metadata": {
        "id": "aZpRHLJVVtr1",
        "colab_type": "text"
      },
      "source": [
        "**1.Thêm các thu viện cần thiết**"
      ]
    },
    {
      "cell_type": "code",
      "metadata": {
        "id": "gieq-KQQmwCn",
        "colab_type": "code",
        "colab": {}
      },
      "source": [
        "# !pip3 install tensorflow-gpu==2.0.0-rc0"
      ],
      "execution_count": 0,
      "outputs": []
    },
    {
      "cell_type": "code",
      "metadata": {
        "id": "e6jhFxLJpStX",
        "colab_type": "code",
        "colab": {}
      },
      "source": [
        "from tensorflow.keras.models import Model\n",
        "from tensorflow.keras.models import Sequential\n",
        "from tensorflow.keras.layers import BatchNormalization\n",
        "from tensorflow.keras.layers import AveragePooling2D\n",
        "from tensorflow.keras.layers import MaxPooling2D\n",
        "from tensorflow.keras.layers import Conv2D\n",
        "from tensorflow.keras.layers import Activation\n",
        "from tensorflow.keras.layers import Dropout\n",
        "from tensorflow.keras.layers import Flatten\n",
        "from tensorflow.keras.layers import Input\n",
        "from tensorflow.keras.layers import Dense\n",
        "from tensorflow.keras.layers import concatenate"
      ],
      "execution_count": 0,
      "outputs": []
    },
    {
      "cell_type": "code",
      "metadata": {
        "id": "9mCmiJ-YpheZ",
        "colab_type": "code",
        "colab": {}
      },
      "source": [
        "from tensorflow.keras.preprocessing.image import ImageDataGenerator\n",
        "from tensorflow.keras.optimizers import SGD"
      ],
      "execution_count": 0,
      "outputs": []
    },
    {
      "cell_type": "code",
      "metadata": {
        "id": "AHLojFj2pkm7",
        "colab_type": "code",
        "colab": {}
      },
      "source": [
        "import matplotlib.pyplot as plt\n",
        "from sklearn.utils import shuffle"
      ],
      "execution_count": 0,
      "outputs": []
    },
    {
      "cell_type": "code",
      "metadata": {
        "id": "-nENNwjrpmlD",
        "colab_type": "code",
        "colab": {}
      },
      "source": [
        "import pickle\n",
        "import os"
      ],
      "execution_count": 0,
      "outputs": []
    },
    {
      "cell_type": "code",
      "metadata": {
        "id": "LkmiVA29po-U",
        "colab_type": "code",
        "colab": {}
      },
      "source": [
        "from sklearn.preprocessing import LabelBinarizer"
      ],
      "execution_count": 0,
      "outputs": []
    },
    {
      "cell_type": "code",
      "metadata": {
        "id": "QGOieqrDpq7L",
        "colab_type": "code",
        "colab": {
          "base_uri": "https://localhost:8080/",
          "height": 316
        },
        "outputId": "48008fc5-253f-4f00-980d-5c4e50e02234"
      },
      "source": [
        "import wget\n",
        " "
      ],
      "execution_count": 57,
      "outputs": [
        {
          "output_type": "error",
          "ename": "ModuleNotFoundError",
          "evalue": "ignored",
          "traceback": [
            "\u001b[0;31m---------------------------------------------------------------------------\u001b[0m",
            "\u001b[0;31mModuleNotFoundError\u001b[0m                       Traceback (most recent call last)",
            "\u001b[0;32m<ipython-input-57-88a700b68346>\u001b[0m in \u001b[0;36m<module>\u001b[0;34m()\u001b[0m\n\u001b[0;32m----> 1\u001b[0;31m \u001b[0;32mimport\u001b[0m \u001b[0mwget\u001b[0m\u001b[0;34m\u001b[0m\u001b[0;34m\u001b[0m\u001b[0m\n\u001b[0m\u001b[1;32m      2\u001b[0m \u001b[0;34m\u001b[0m\u001b[0m\n",
            "\u001b[0;31mModuleNotFoundError\u001b[0m: No module named 'wget'",
            "",
            "\u001b[0;31m---------------------------------------------------------------------------\u001b[0;32m\nNOTE: If your import is failing due to a missing package, you can\nmanually install dependencies using either !pip or !apt.\n\nTo view examples of installing some common dependencies, click the\n\"Open Examples\" button below.\n\u001b[0;31m---------------------------------------------------------------------------\u001b[0m\n"
          ]
        }
      ]
    },
    {
      "cell_type": "code",
      "metadata": {
        "id": "d4vBv4lgpstr",
        "colab_type": "code",
        "colab": {}
      },
      "source": [
        "link = \"https://d17h27t6h515a5.cloudfront.net/topher/2017/February/5898cd6f_traffic-signs-data/traffic-signs-data.zip\""
      ],
      "execution_count": 0,
      "outputs": []
    },
    {
      "cell_type": "markdown",
      "metadata": {
        "id": "RNEeMhiFV5Yw",
        "colab_type": "text"
      },
      "source": [
        "**2.Tải dữ liệu**"
      ]
    },
    {
      "cell_type": "code",
      "metadata": {
        "id": "-ZZeC5Uqpxhd",
        "colab_type": "code",
        "colab": {}
      },
      "source": [
        "def bar_custom(current, total, width=80):\n",
        "    print(\"Downloading: %d%% [%d / %d] bytes\" % (current / total * 100, current, total))"
      ],
      "execution_count": 0,
      "outputs": []
    },
    {
      "cell_type": "code",
      "metadata": {
        "id": "M_Clir3LqIHc",
        "colab_type": "code",
        "colab": {}
      },
      "source": [
        "wget.download(link, bar=bar_custom)"
      ],
      "execution_count": 0,
      "outputs": []
    },
    {
      "cell_type": "code",
      "metadata": {
        "id": "ypGZjtnkqNS8",
        "colab_type": "code",
        "colab": {}
      },
      "source": [
        "data_folder_link = './signsdata'  #Link folder lưu dữ liệu"
      ],
      "execution_count": 0,
      "outputs": []
    },
    {
      "cell_type": "code",
      "metadata": {
        "id": "gi9Y2mivR82A",
        "colab_type": "code",
        "colab": {}
      },
      "source": [
        "if not os.path.isdir(data_folder_link):\n",
        "    print('new directry has been created')           #Tạo thư mục lưu data\n",
        "    os.system('mkdir {}'.format(data_folder_link))"
      ],
      "execution_count": 0,
      "outputs": []
    },
    {
      "cell_type": "code",
      "metadata": {
        "id": "YFCbq9LuSAIE",
        "colab_type": "code",
        "colab": {}
      },
      "source": [
        "!unzip -q traffic-signs-data.zip -d $data_folder_link #unzip thư mục data"
      ],
      "execution_count": 0,
      "outputs": []
    },
    {
      "cell_type": "code",
      "metadata": {
        "id": "A73pmKSESDZ0",
        "colab_type": "code",
        "colab": {}
      },
      "source": [
        "train_data_path = data_folder_link + \"/train.p\"\n",
        "test_data_path = data_folder_link + \"/test.p\"\n",
        "valid_data_path = data_folder_link + \"/valid.p\"\n"
      ],
      "execution_count": 0,
      "outputs": []
    },
    {
      "cell_type": "markdown",
      "metadata": {
        "id": "PB_-XSa5WYDl",
        "colab_type": "text"
      },
      "source": [
        "Sử dụng thư viện Pickle để đọc data"
      ]
    },
    {
      "cell_type": "code",
      "metadata": {
        "id": "UI3jBoo7SG9L",
        "colab_type": "code",
        "colab": {}
      },
      "source": [
        "with open(train_data_path, mode=\"rb\") as f:\n",
        "    train = pickle.load(f)"
      ],
      "execution_count": 0,
      "outputs": []
    },
    {
      "cell_type": "code",
      "metadata": {
        "id": "T5GowbWiSKHM",
        "colab_type": "code",
        "colab": {}
      },
      "source": [
        "with open(test_data_path, mode=\"rb\") as f:\n",
        "    test = pickle.load(f)"
      ],
      "execution_count": 0,
      "outputs": []
    },
    {
      "cell_type": "code",
      "metadata": {
        "id": "E_K1UygFSMK0",
        "colab_type": "code",
        "colab": {}
      },
      "source": [
        "with open(valid_data_path, mode=\"rb\") as f:\n",
        "    valid = pickle.load(f)"
      ],
      "execution_count": 0,
      "outputs": []
    },
    {
      "cell_type": "markdown",
      "metadata": {
        "id": "Xf-0U4HIWeZb",
        "colab_type": "text"
      },
      "source": [
        "Data được lưu dưới dạng {\"features\":[], \"labels\": []}\n",
        "\n",
        "Bộ train được sử dụng cho quá trình huấn luyện"
      ]
    },
    {
      "cell_type": "code",
      "metadata": {
        "id": "8Vck02DSSPek",
        "colab_type": "code",
        "colab": {}
      },
      "source": [
        "train_X = train[\"features\"]\n",
        "train_Y = train[\"labels\"]\n",
        "\n",
        "\n",
        "# Tráo bộ dữ liệu\n",
        "train_X, train_Y = shuffle(train_X, train_Y)"
      ],
      "execution_count": 0,
      "outputs": []
    },
    {
      "cell_type": "markdown",
      "metadata": {
        "id": "4r4DcUjcSZtz",
        "colab_type": "text"
      },
      "source": [
        "Tại sao phải tráo bộ dữ liệu hiện tại, bởi vì các ảnh tương đồng nhau đang được liền nhau, cho nên để tăng tính ngẫu nhiên của dữ liệu ta phải tráo chúng lên.\n",
        "\n",
        "Bộ valid được sử dụng cho quá trình kiểm soát độ chính xác của mô hình khi training"
      ]
    },
    {
      "cell_type": "code",
      "metadata": {
        "id": "xQDoRaHmSSKr",
        "colab_type": "code",
        "colab": {}
      },
      "source": [
        "valid_X = valid[\"features\"]\n",
        "valid_Y = valid[\"labels\"]\n",
        "\n",
        "# Tráo bộ dữ liệu\n",
        "\n",
        "valid_X, valid_Y = shuffle(valid_X, valid_Y)"
      ],
      "execution_count": 0,
      "outputs": []
    },
    {
      "cell_type": "markdown",
      "metadata": {
        "id": "cT-oCen-Sf1D",
        "colab_type": "text"
      },
      "source": [
        "Bộ test được sử dụng để kiểm tra độ chính xác của mô hình sau khi training"
      ]
    },
    {
      "cell_type": "code",
      "metadata": {
        "id": "39h4vW3OSi5K",
        "colab_type": "code",
        "colab": {}
      },
      "source": [
        "test_X = test[\"features\"]\n",
        "test_Y = test[\"labels\"]"
      ],
      "execution_count": 0,
      "outputs": []
    },
    {
      "cell_type": "code",
      "metadata": {
        "id": "onSgQc89Slht",
        "colab_type": "code",
        "colab": {}
      },
      "source": [
        "from sklearn.utils import shuffle"
      ],
      "execution_count": 0,
      "outputs": []
    },
    {
      "cell_type": "code",
      "metadata": {
        "id": "y26l8mj8Snsj",
        "colab_type": "code",
        "colab": {}
      },
      "source": [
        "plt.imshow(test_X[1]) #Show 1 ảnh tự bộ test"
      ],
      "execution_count": 0,
      "outputs": []
    },
    {
      "cell_type": "code",
      "metadata": {
        "id": "facnhZ_jSvDU",
        "colab_type": "code",
        "colab": {}
      },
      "source": [
        "classNames = ['Speed limit (20km/h)',     #Danh sách các nhãn\n",
        " 'Speed limit (30km/h)',\n",
        " 'Speed limit (50km/h)',\n",
        " 'Speed limit (60km/h)',\n",
        " 'Speed limit (70km/h)',\n",
        " 'Speed limit (80km/h)',\n",
        " 'End of speed limit (80km/h)',\n",
        " 'Speed limit (100km/h)',\n",
        " 'Speed limit (120km/h)',\n",
        " 'No passing',\n",
        " 'No passing for vehicles over 3.5 metric tons',\n",
        " 'Right-of-way at the next intersection',\n",
        " 'Priority road',\n",
        " 'Yield',\n",
        " 'Stop',\n",
        " 'No vehicles',\n",
        " 'Vehicles over 3.5 metric tons prohibited',\n",
        " 'No entry',\n",
        " 'General caution',\n",
        " 'Dangerous curve to the left',\n",
        " 'Dangerous curve to the right',\n",
        " 'Double curve',\n",
        " 'Bumpy road',\n",
        " 'Slippery road',\n",
        " 'Road narrows on the right',\n",
        " 'Road work',\n",
        " 'Traffic signals',\n",
        " 'Pedestrians',\n",
        " 'Children crossing',\n",
        " 'Bicycles crossing',\n",
        " 'Beware of ice/snow',\n",
        " 'Wild animals crossing',\n",
        " 'End of all speed and passing limits',\n",
        " 'Turn right ahead',\n",
        " 'Turn left ahead',\n",
        " 'Ahead only',\n",
        " 'Go straight or right',\n",
        " 'Go straight or left',\n",
        " 'Keep right',\n",
        " 'Keep left',\n",
        " 'Roundabout mandatory',\n",
        " 'End of no passing',\n",
        " 'End of no passing by vehicles over 3.5 metric tons']"
      ],
      "execution_count": 0,
      "outputs": []
    },
    {
      "cell_type": "markdown",
      "metadata": {
        "id": "r76dVkf7WrpS",
        "colab_type": "text"
      },
      "source": [
        "Ví dụ ảnh có nhãn là 1 thì tên của nhãn sẽ classNames[1]. là Cho nên nhãn của ảnh bên trên sẽ là:"
      ]
    },
    {
      "cell_type": "code",
      "metadata": {
        "id": "zb7bSPJdS1_E",
        "colab_type": "code",
        "colab": {}
      },
      "source": [
        "classNames[test_Y[1]]"
      ],
      "execution_count": 0,
      "outputs": []
    },
    {
      "cell_type": "markdown",
      "metadata": {
        "id": "002oxh-bTBS0",
        "colab_type": "text"
      },
      "source": [
        "Vậy nhãn của chúng ta đã tương ứng với ảnh, đây là biển số không vượt quá tốc độc 30km/h\n",
        "\n",
        "Hiển thị 25 ảnh ban đầu sau khi xáo trộn dữ liệu"
      ]
    },
    {
      "cell_type": "code",
      "metadata": {
        "id": "B5q6FWFGS7-7",
        "colab_type": "code",
        "colab": {}
      },
      "source": [
        "plt.figure(figsize=(10,10))\n",
        "for i in range(25):\n",
        "    plt.subplot(5,5,i+1)\n",
        "    plt.xticks([])\n",
        "    plt.yticks([])\n",
        "    plt.grid(False)\n",
        "    plt.imshow(train_X[i], cmap=plt.cm.binary)\n",
        "    # The CIFAR labels happen to be arrays, \n",
        "    # which is why you need the extra index\n",
        "    plt.xlabel(classNames[train_Y[i]])\n",
        "plt.show()"
      ],
      "execution_count": 0,
      "outputs": []
    },
    {
      "cell_type": "markdown",
      "metadata": {
        "id": "oDj37_CmWy9t",
        "colab_type": "text"
      },
      "source": [
        "**3.Chuẩn hóa dữ liệu**"
      ]
    },
    {
      "cell_type": "code",
      "metadata": {
        "id": "Jvf5Z72CTDKa",
        "colab_type": "code",
        "colab": {}
      },
      "source": [
        "train_X = train_X.astype(\"float\") / 255.0  #Đưa dữ liệu về khoảng (0,1)\n",
        "test_X = test_X.astype(\"float\") / 255.0\n",
        "valid_X = valid_X.astype(\"float\") / 255.0"
      ],
      "execution_count": 0,
      "outputs": []
    },
    {
      "cell_type": "code",
      "metadata": {
        "id": "iKeqgS5rTOtc",
        "colab_type": "code",
        "colab": {}
      },
      "source": [
        "lb = LabelBinarizer()\n",
        "train_Y = train_Y.reshape((train_Y.shape[0], 1))"
      ],
      "execution_count": 0,
      "outputs": []
    },
    {
      "cell_type": "markdown",
      "metadata": {
        "id": "Dg8XANOeTZAs",
        "colab_type": "text"
      },
      "source": [
        "Nhãn được đánh từ 0 đến 42 tương đương với danh sách như bên trên.\n",
        "\n",
        "Chuyển về dạng one hot.\n",
        "\n",
        "One hot chỉ là cách chuyển nhãn về sao cho đảm bảo tính tương đồng của các nhãn với nhau"
      ]
    },
    {
      "cell_type": "code",
      "metadata": {
        "id": "J1wNX-26TTvD",
        "colab_type": "code",
        "colab": {}
      },
      "source": [
        "train_Y = lb.fit_transform(train_Y)\n",
        "valid_Y = lb.fit_transform(valid_Y)\n",
        "test_Y = lb.fit_transform(test_Y)"
      ],
      "execution_count": 0,
      "outputs": []
    },
    {
      "cell_type": "code",
      "metadata": {
        "id": "c9KTT5sYTe5z",
        "colab_type": "code",
        "colab": {}
      },
      "source": [
        "train_Y"
      ],
      "execution_count": 0,
      "outputs": []
    },
    {
      "cell_type": "markdown",
      "metadata": {
        "id": "YoGXh9qfTlC0",
        "colab_type": "text"
      },
      "source": [
        "**Thiết kế model**(Đoạn này làm giống bài trước)"
      ]
    },
    {
      "cell_type": "markdown",
      "metadata": {
        "id": "OTHdycoGW91W",
        "colab_type": "text"
      },
      "source": [
        "Chúng ta thực hiện các phép tích chập, phép max-pooling và sau đó đưa vào mạng nửa kết nối đầy đủ (half fully-connected network) và giảm chiều lớp xuống đúng bằng số lượng class."
      ]
    },
    {
      "cell_type": "code",
      "metadata": {
        "id": "A8YPMhiqThJE",
        "colab_type": "code",
        "colab": {}
      },
      "source": [
        "model = Sequential()"
      ],
      "execution_count": 0,
      "outputs": []
    },
    {
      "cell_type": "code",
      "metadata": {
        "id": "Ev4e9P7xT8Hj",
        "colab_type": "code",
        "colab": {}
      },
      "source": [
        "learning_rate = 1e-2\n",
        "batch_size = 64\n",
        "num_epochs = 30 # Accuracy: 74% within 30 epochs"
      ],
      "execution_count": 0,
      "outputs": []
    },
    {
      "cell_type": "code",
      "metadata": {
        "id": "_K4abR6gULbV",
        "colab_type": "code",
        "colab": {}
      },
      "source": [
        "width = 32\n",
        "height = 32\n",
        "classes = 43"
      ],
      "execution_count": 0,
      "outputs": []
    },
    {
      "cell_type": "code",
      "metadata": {
        "id": "K7cUWrMLUOKr",
        "colab_type": "code",
        "colab": {}
      },
      "source": [
        "shape = (width,height, 3)"
      ],
      "execution_count": 0,
      "outputs": []
    },
    {
      "cell_type": "code",
      "metadata": {
        "id": "_bn-b47FURUL",
        "colab_type": "code",
        "colab": {}
      },
      "source": [
        "model.add(Conv2D(32, (3 , 3), padding='same', input_shape=shape))\n",
        "model.add(Activation(\"relu\"))\n",
        "model.add(BatchNormalization())\n",
        "model.add(Conv2D(32, (3 , 3), padding='same'))\n",
        "model.add(Activation(\"relu\"))\n",
        "model.add(BatchNormalization())\n",
        "model.add(MaxPooling2D(pool_size=(2,2)))"
      ],
      "execution_count": 0,
      "outputs": []
    },
    {
      "cell_type": "code",
      "metadata": {
        "id": "FHGbH1vMUTRF",
        "colab_type": "code",
        "colab": {}
      },
      "source": [
        "model.add(Conv2D(64, (3 , 3), padding='same'))\n",
        "model.add(Activation(\"relu\"))\n",
        "model.add(BatchNormalization())\n",
        "model.add(Conv2D(64, (3 , 3), padding='same'))\n",
        "model.add(Activation(\"relu\"))\n",
        "model.add(BatchNormalization())\n",
        "model.add(MaxPooling2D(pool_size=(2,2)))"
      ],
      "execution_count": 0,
      "outputs": []
    },
    {
      "cell_type": "markdown",
      "metadata": {
        "id": "yhMW770yXFO7",
        "colab_type": "text"
      },
      "source": [
        "Đưa vào mạng Neuron không kết nối đầy đủ vì có sử dụng Dropout."
      ]
    },
    {
      "cell_type": "code",
      "metadata": {
        "id": "vqcZIFlPUV0L",
        "colab_type": "code",
        "colab": {}
      },
      "source": [
        "model.add(Flatten())\n",
        "model.add(Dense(512))\n",
        "model.add(Activation(\"relu\"))\n",
        "model.add(BatchNormalization())\n",
        "model.add(Dropout(0.5))\n",
        "model.add(Dense(classes))"
      ],
      "execution_count": 0,
      "outputs": []
    },
    {
      "cell_type": "code",
      "metadata": {
        "id": "Sdq-kRqNUY0U",
        "colab_type": "code",
        "colab": {}
      },
      "source": [
        "model.add(Activation(\"softmax\"))"
      ],
      "execution_count": 0,
      "outputs": []
    },
    {
      "cell_type": "code",
      "metadata": {
        "id": "DUKDbZZaUat7",
        "colab_type": "code",
        "colab": {}
      },
      "source": [
        "model.summary()"
      ],
      "execution_count": 0,
      "outputs": []
    },
    {
      "cell_type": "markdown",
      "metadata": {
        "id": "Z99eMS0vUj1N",
        "colab_type": "text"
      },
      "source": [
        "**5. Tăng cường data khi train**\n",
        "\n",
        "Ta có thể xoay, zoom to, thay đổi kích cỡ để có nhiều đặc trưng hơn mà vẫn giữ nguyên nhãn"
      ]
    },
    {
      "cell_type": "code",
      "metadata": {
        "id": "YnTnUrxAUdlU",
        "colab_type": "code",
        "colab": {}
      },
      "source": [
        "aug = ImageDataGenerator(rotation_range=18, zoom_range=0.15, width_shift_range=0.2\n",
        "                         , height_shift_range=0.2, shear_range=0.15, horizontal_flip=True, fill_mode=\"nearest\")"
      ],
      "execution_count": 0,
      "outputs": []
    },
    {
      "cell_type": "markdown",
      "metadata": {
        "id": "aebLG-9xU6yi",
        "colab_type": "text"
      },
      "source": [
        "Chỉ số decay nhằm điều chỉnh learning rate."
      ]
    },
    {
      "cell_type": "code",
      "metadata": {
        "id": "7mNGbAoBU0BM",
        "colab_type": "code",
        "colab": {}
      },
      "source": [
        "opt = SGD(lr=learning_rate, momentum=0.9, decay=learning_rate / num_epochs)\n",
        "model.compile(loss=\"categorical_crossentropy\", optimizer=opt, metrics=[\"accuracy\"])"
      ],
      "execution_count": 0,
      "outputs": []
    },
    {
      "cell_type": "code",
      "metadata": {
        "id": "Oba-5sekU_p7",
        "colab_type": "code",
        "colab": {}
      },
      "source": [
        "print(\"Start Training...\")\n",
        "H = model.fit_generator(aug.flow(train_X, train_Y, batch_size=batch_size), validation_data=(valid_X, valid_Y), \n",
        "                        steps_per_epoch=train_X.shape[0] // batch_size, epochs=num_epochs, verbose=1)"
      ],
      "execution_count": 0,
      "outputs": []
    },
    {
      "cell_type": "markdown",
      "metadata": {
        "id": "ETw2YFdcVEhk",
        "colab_type": "text"
      },
      "source": [
        "**6. Lưu model và load lại nhằm inference**\n",
        "\n",
        "Lưu lại model sau khi train xong.\n"
      ]
    },
    {
      "cell_type": "code",
      "metadata": {
        "id": "Rmg93H_KVCer",
        "colab_type": "code",
        "colab": {}
      },
      "source": [
        "import tensorflow as tf\n",
        "import numpy as np"
      ],
      "execution_count": 0,
      "outputs": []
    },
    {
      "cell_type": "code",
      "metadata": {
        "id": "dHIogYhsVRcz",
        "colab_type": "code",
        "colab": {}
      },
      "source": [
        "model = tf.keras.models.load_model(\"sonhai1209.h5\")"
      ],
      "execution_count": 0,
      "outputs": []
    },
    {
      "cell_type": "code",
      "metadata": {
        "id": "E3HD1xk3VZW2",
        "colab_type": "code",
        "colab": {}
      },
      "source": [
        "result = model.predict(np.array(test_X[0:1]/255.0))"
      ],
      "execution_count": 0,
      "outputs": []
    },
    {
      "cell_type": "code",
      "metadata": {
        "id": "rIosvU2hVhrW",
        "colab_type": "code",
        "colab": {}
      },
      "source": [
        "plt.imshow(test_X[50], cmap=plt.cm.binary)"
      ],
      "execution_count": 0,
      "outputs": []
    },
    {
      "cell_type": "code",
      "metadata": {
        "id": "S6kjJAoUVjzn",
        "colab_type": "code",
        "colab": {}
      },
      "source": [
        "predicted_label = np.argmax(result)"
      ],
      "execution_count": 0,
      "outputs": []
    },
    {
      "cell_type": "code",
      "metadata": {
        "id": "RuLFpF1bVmDU",
        "colab_type": "code",
        "colab": {}
      },
      "source": [
        "classNames[predicted_label]"
      ],
      "execution_count": 0,
      "outputs": []
    }
  ]
}